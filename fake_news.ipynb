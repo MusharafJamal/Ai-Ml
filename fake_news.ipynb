
    {
      "cell_type": "code",
      "source": [
        "import pandas as pd\n",
        "import matplotlib.pyplot as plt\n",
        "import numpy as np\n",
        "import nltk\n",
        "from sklearn.model_selection import train_test_split\n",
        "from sklearn.feature_extraction.text import CountVectorizer\n",
        "from sklearn.naive_bayes import MultinomialNB\n",
        "from sklearn.metrics import accuracy_score, classification_report, confusion_matrix\n",
        "from nltk.corpus import stopwords\n",
        "from nltk.stem import PorterStemmer\n",
        "from nltk.tokenize import word_tokenize\n",
        "\n",
        "df=pd.read_csv('/content/enclean_fake_news.csv')\n",
        "print(df.head())\n",
        "nltk.download('stopwords')\n",
        "\n",
        "stop_words = set(stopwords.words('english'))\n",
        "stemmer = PorterStemmer()\n",
        "y = df['label']\n",
        "\n",
        "\n",
        "def processed(text):\n",
        "  if not isinstance(text, str):\n",
        "    return ''\n",
        "  text=text.lower()\n",
        "  text=''.join([char for char in text if char.isalpha() or char.isspace()])\n",
        "  token=text.split()\n",
        "  token=[stemmer.stem(word) for word in token if word not in stop_words]\n",
        "  return ' '.join(token)\n",
        "df['text'] = df['text'].apply(processed)\n",
        "X = df['text']\n",
        "X_train, X_test, y_train, y_test = train_test_split(X, y, test_size=0.2, random_state=42)\n",
        "\n",
        "vectorizer = CountVectorizer()\n",
        "X_train_vectorized = vectorizer.fit_transform(X_train)\n",
        "X_test_vectorized = vectorizer.transform(X_test)\n",
        "\n",
        "model = MultinomialNB()\n",
        "model.fit(X_train_vectorized, y_train)\n",
        "y_pred = model.predict(X_test_vectorized)\n",
        "\n",
        "accuracy = accuracy_score(y_test, y_pred)\n",
        "print(f\"Accuracy: {accuracy:.4f}\")\n",
        "\n",
        "print(\"\\nConfusion Matrix:\")\n",
        "print(confusion_matrix(y_test, y_pred))\n",
        "\n",
        "print(\"\\nClassification Report:\")\n",
        "print(classification_report(y_test, y_pred))"
      ],
      "metadata": {
        "colab": {
          "base_uri": "https://localhost:8080/"
        },
        "id": "YzHFtHlUC2Jy",
        "outputId": "4bd93fbd-4209-4085-fcb6-a220eccda209"
      },
      "execution_count": 4,
      "outputs": [
        {
          "output_type": "stream",
          "name": "stdout",
          "text": [
            "   label                                               text\n",
            "0      1  wow huckabee ask nancy pelosi if shes racist o...\n",
            "1      1  wikileaks why be the clinton scooby van fit wi...\n",
            "2      1  thai government take action against monk over ...\n",
            "3      1  responsible gun owner who have never fire one ...\n",
            "4      1  stark und schön zugleich stark und schön zugle...\n"
          ]
        },
        {
          "output_type": "stream",
          "name": "stderr",
          "text": [
            "[nltk_data] Downloading package stopwords to /root/nltk_data...\n",
            "[nltk_data]   Package stopwords is already up-to-date!\n"
          ]
        },
        {
          "output_type": "stream",
          "name": "stdout",
          "text": [
            "Accuracy: 0.7629\n",
            "\n",
            "Confusion Matrix:\n",
            "[[886 209]\n",
            " [326 835]]\n",
            "\n",
            "Classification Report:\n",
            "              precision    recall  f1-score   support\n",
            "\n",
            "           0       0.73      0.81      0.77      1095\n",
            "           1       0.80      0.72      0.76      1161\n",
            "\n",
            "    accuracy                           0.76      2256\n",
            "   macro avg       0.77      0.76      0.76      2256\n",
            "weighted avg       0.77      0.76      0.76      2256\n",
            "\n"
          ]
        }
      ]
    },
    {
      "cell_type": "markdown",
      "source": [
        "# New Section"
      ],
      "metadata": {
        "id": "pMIa7iL_QHeT"
      }
    }
  ]
}
